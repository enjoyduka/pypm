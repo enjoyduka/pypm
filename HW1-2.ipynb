{
 "cells": [
  {
   "cell_type": "code",
   "execution_count": 5,
   "id": "f4b986da",
   "metadata": {},
   "outputs": [
    {
     "name": "stdout",
     "output_type": "stream",
     "text": [
      "Bill's height: 168cm, weight: 70kg\n"
     ]
    }
   ],
   "source": [
    "dict1={\"David\":{\"Height\":\"180cm\",\"Weight\":\"85kg\"},\n",
    "\"John\":{\"Height\":\"172cm\",\"Weight\":\"72kg\"},\n",
    "\"Mary\":{\"Height\":\"158cm\",\"Weight\":\"51kg\"},\n",
    "\"Lora\":{\"Height\":\"160cm\",\"Weight\":\"49kg\"},\n",
    "\"Bill\":{\"Height\":\"168cm\",\"Weight\":\"70kg\"},\n",
    "\"Elsa\":{\"Height\":\"154cm\",\"Weight\":\"55kg\"},\n",
    "\"Golden\":{\"Height\":\"176cm\",\"Weight\":\"69kg\"},\n",
    "\"Jason\":{\"Height\":\"182cm\",\"Weight\":\"77kg\"},\n",
    "\"Larry\":{\"Height\":\"160cm\",\"Weight\":\"64kg\"},\n",
    "\"Michelle\":{\"Height\":\"155cm\",\"Weight\":\"57kg\"}}\n",
    "print('Bill\\'s height: {}, weight: {}'.format(dict1.get('Bill').get('Height'),dict1.get('Bill').get('Weight')))"
   ]
  },
  {
   "cell_type": "code",
   "execution_count": null,
   "id": "2064bcd6",
   "metadata": {},
   "outputs": [],
   "source": []
  },
  {
   "cell_type": "code",
   "execution_count": null,
   "id": "e0947d80",
   "metadata": {},
   "outputs": [],
   "source": []
  },
  {
   "cell_type": "code",
   "execution_count": null,
   "id": "656e0b86",
   "metadata": {},
   "outputs": [],
   "source": []
  },
  {
   "cell_type": "code",
   "execution_count": 6,
   "id": "b80025d8",
   "metadata": {},
   "outputs": [
    {
     "name": "stdout",
     "output_type": "stream",
     "text": [
      "['David', 'John', 'Mary', 'Lora', 'Bill', 'Elsa', 'Golden', 'Jason', 'Larry', 'Michelle']\n",
      "Larry's height: 160cm, weight: 64kg\n"
     ]
    }
   ],
   "source": [
    "listName=list(dict1.keys())\n",
    "listHeight=list()\n",
    "listWeight=list()\n",
    "for n in dict1:\n",
    "    listHeight.append(dict1[n]['Height'])\n",
    "    listWeight.append(dict1.get(n).get('Weight')) \n",
    "\n",
    "print(listName)\n",
    "intfound = listName.index('Larry')\n",
    "print('Larry\\'s height: {}, weight: {}'.format(listHeight[intfound],listWeight[intfound]))"
   ]
  },
  {
   "cell_type": "code",
   "execution_count": null,
   "id": "57f83433",
   "metadata": {},
   "outputs": [],
   "source": []
  },
  {
   "cell_type": "code",
   "execution_count": null,
   "id": "9650aa8d",
   "metadata": {},
   "outputs": [],
   "source": []
  },
  {
   "cell_type": "code",
   "execution_count": null,
   "id": "1c14509d",
   "metadata": {},
   "outputs": [],
   "source": []
  }
 ],
 "metadata": {
  "kernelspec": {
   "display_name": "Python 3",
   "language": "python",
   "name": "python3"
  },
  "language_info": {
   "codemirror_mode": {
    "name": "ipython",
    "version": 3
   },
   "file_extension": ".py",
   "mimetype": "text/x-python",
   "name": "python",
   "nbconvert_exporter": "python",
   "pygments_lexer": "ipython3",
   "version": "3.6.8"
  }
 },
 "nbformat": 4,
 "nbformat_minor": 5
}
