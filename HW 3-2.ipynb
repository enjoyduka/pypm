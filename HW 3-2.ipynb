{
 "cells": [
  {
   "cell_type": "code",
   "execution_count": 1,
   "id": "791e7026",
   "metadata": {},
   "outputs": [
    {
     "name": "stdout",
     "output_type": "stream",
     "text": [
      "[2, 8, 0, 3]\n"
     ]
    }
   ],
   "source": [
    "import random\n",
    "x = random.sample(range(0,10), k=4)\n",
    "print(x)"
   ]
  },
  {
   "cell_type": "code",
   "execution_count": 2,
   "id": "b30b8ba6",
   "metadata": {},
   "outputs": [],
   "source": [
    "def check(val):\n",
    "    if len(val)!=4:\n",
    "        print('ERROR: 請勿輸入非4位的資料')\n",
    "        return False\n",
    "    else:\n",
    "        for i in val:\n",
    "            if(string_to_int(i)==False):\n",
    "                print('ERROR: 請勿輸入非數字的資料')\n",
    "                return False\n",
    "            elif(val.count(i)>1):\n",
    "                print('ERROR: 請勿輸入重覆數字的資料')\n",
    "                return False\n",
    "        return True\n",
    "    \n",
    "def string_to_int(s):\n",
    "    try:\n",
    "        temp = int(eval(str(s)))\n",
    "        if type(temp) == int:\n",
    "            return True\n",
    "    except:\n",
    "        return False\n",
    "    \n",
    "def calc(val):\n",
    "    global x\n",
    "    listAB=[]\n",
    "    intI=0\n",
    "    for i in val:\n",
    "        if(x.count(int(i)))>0:\n",
    "            if x.index(int(i))==intI:\n",
    "                listAB.append('A')\n",
    "            elif x.index(int(i))>=0:\n",
    "                listAB.append('B')\n",
    "        intI+=1\n",
    "        \n",
    "    msg=countAB('A',listAB)+countAB('B',listAB)\n",
    "    print(msg)\n",
    "    return (msg=='4A0B')\n",
    "    \n",
    "def countAB(val, listAB):\n",
    "    return str(listAB.count(val))+val"
   ]
  },
  {
   "cell_type": "code",
   "execution_count": null,
   "id": "2e3cff76",
   "metadata": {},
   "outputs": [
    {
     "name": "stdout",
     "output_type": "stream",
     "text": [
      "1: 請輸入4位數字1234\n",
      "0A2B\n",
      "2: 請輸入4位數字1123\n",
      "ERROR: 請勿輸入重覆數字的資料\n",
      "3: 請輸入4位數字1341\n",
      "ERROR: 請勿輸入重覆數字的資料\n",
      "4: 請輸入4位數字1523\n",
      "1A1B\n"
     ]
    }
   ],
   "source": [
    "blBreak=False\n",
    "\n",
    "for intCnt in range(1,11):\n",
    "    strMsg=f'{intCnt}: 請輸入4位數字'\n",
    "    intVal = input(strMsg)\n",
    "    \n",
    "    if check(intVal):\n",
    "        blBreak = calc(intVal)\n",
    "        if blBreak: \n",
    "            break\n",
    "        \n",
    "if blBreak==True:\n",
    "    print('You Win')\n",
    "elif intCnt==10:\n",
    "    print('You Lose, the answer is: '+ ''.join(map(str,x)))    "
   ]
  },
  {
   "cell_type": "code",
   "execution_count": null,
   "id": "47349ef7",
   "metadata": {},
   "outputs": [],
   "source": []
  }
 ],
 "metadata": {
  "kernelspec": {
   "display_name": "Python 3",
   "language": "python",
   "name": "python3"
  },
  "language_info": {
   "codemirror_mode": {
    "name": "ipython",
    "version": 3
   },
   "file_extension": ".py",
   "mimetype": "text/x-python",
   "name": "python",
   "nbconvert_exporter": "python",
   "pygments_lexer": "ipython3",
   "version": "3.6.8"
  }
 },
 "nbformat": 4,
 "nbformat_minor": 5
}
