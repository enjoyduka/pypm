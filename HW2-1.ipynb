{
 "cells": [
  {
   "cell_type": "code",
   "execution_count": 3,
   "id": "e3e24937",
   "metadata": {},
   "outputs": [
    {
     "name": "stdout",
     "output_type": "stream",
     "text": [
      "{'David': {'h': 180, 'h_unit': 'cm', 'w': 85, 'w_unit': 'kg', 'BMI': 26.234567901234566}, 'John': {'h': 172, 'h_unit': 'cm', 'w': 72, 'w_unit': 'kg', 'BMI': 24.337479718766904}, 'Mary': {'h': 158, 'h_unit': 'cm', 'w': 51, 'w_unit': 'kg', 'BMI': 20.429418362441915}, 'Lora': {'h': 160, 'h_unit': 'cm', 'w': 49, 'w_unit': 'kg', 'BMI': 19.140624999999996}, 'Bill': {'h': 168, 'h_unit': 'cm', 'w': 70, 'w_unit': 'kg', 'BMI': 24.801587301587304}, 'Elsa': {'h': 154, 'h_unit': 'cm', 'w': 55, 'w_unit': 'kg', 'BMI': 23.19109461966605}, 'Golden': {'h': 176, 'h_unit': 'cm', 'w': 69, 'w_unit': 'kg', 'BMI': 22.275309917355372}, 'Jason': {'h': 182, 'h_unit': 'cm', 'w': 77, 'w_unit': 'kg', 'BMI': 23.24598478444632}, 'Larry': {'h': 160, 'h_unit': 'cm', 'w': 64, 'w_unit': 'kg', 'BMI': 24.999999999999996}, 'Michelle': {'h': 155, 'h_unit': 'cm', 'w': 57, 'w_unit': 'kg', 'BMI': 23.725286160249738}}\n"
     ]
    }
   ],
   "source": [
    "dictD = {\"David\": {\"h\":180,\"h_unit\":\"cm\",\"w\":85,\"w_unit\":\"kg\"},\n",
    "\"John\": {\"h\":172,\"h_unit\":\"cm\",\"w\":72,\"w_unit\":\"kg\"},\n",
    "\"Mary\": {\"h\":158,\"h_unit\":\"cm\",\"w\":51,\"w_unit\":\"kg\"},\n",
    "\"Lora\": {\"h\":160,\"h_unit\":\"cm\",\"w\":49,\"w_unit\":\"kg\"},\n",
    "\"Bill\": {\"h\":168,\"h_unit\":\"cm\",\"w\":70,\"w_unit\":\"kg\"},\n",
    "\"Elsa\": {\"h\":154,\"h_unit\":\"cm\",\"w\":55,\"w_unit\":\"kg\"},\n",
    "\"Golden\": {\"h\":176,\"h_unit\":\"cm\",\"w\":69,\"w_unit\":\"kg\"},\n",
    "\"Jason\": {\"h\":182,\"h_unit\":\"cm\",\"w\":77,\"w_unit\":\"kg\"},\n",
    "\"Larry\": {\"h\":160,\"h_unit\":\"cm\",\"w\":64,\"w_unit\":\"kg\"},\n",
    "\"Michelle\": {\"h\":155,\"h_unit\":\"cm\",\"w\":57,\"w_unit\":\"kg\"}\n",
    "}\n",
    "# help(dict)\n",
    "for d in dictD:\n",
    "    thisDict=dictD[d]#取出目前的item並塞到thisDict\n",
    "    #BMI的公式為 BMI = 體重(公斤) / 身高(公尺)平方\n",
    "    thisDict.update({\"BMI\":thisDict[\"w\"]/((thisDict[\"h\"]/100)**2)})#把BMI產生後加回thisDict\n",
    "    dictD[d]=thisDict#取代原始dictD的值\n",
    "    \n",
    "print(dictD)"
   ]
  },
  {
   "cell_type": "code",
   "execution_count": 4,
   "id": "d28d04fd",
   "metadata": {},
   "outputs": [
    {
     "name": "stdout",
     "output_type": "stream",
     "text": [
      "26.234567901234566\n",
      "24.337479718766904\n",
      "20.429418362441915\n",
      "19.140624999999996\n",
      "24.801587301587304\n",
      "23.19109461966605\n",
      "22.275309917355372\n",
      "23.24598478444632\n",
      "24.999999999999996\n",
      "23.725286160249738\n"
     ]
    }
   ],
   "source": [
    "bmi=[]\n",
    "for d in dictD:\n",
    "    print(dictD[d][\"BMI\"])\n",
    "    bmi.append(dictD[d][\"BMI\"])\n",
    "\n",
    "mean_bmi=sum(bmi)/len(bmi)"
   ]
  },
  {
   "cell_type": "code",
   "execution_count": 6,
   "id": "e2aff42c",
   "metadata": {},
   "outputs": [
    {
     "data": {
      "text/plain": [
       "{'David': {'h': 180,\n",
       "  'h_unit': 'cm',\n",
       "  'w': 85,\n",
       "  'w_unit': 'kg',\n",
       "  'BMI': 26.234567901234566},\n",
       " 'John': {'h': 172,\n",
       "  'h_unit': 'cm',\n",
       "  'w': 72,\n",
       "  'w_unit': 'kg',\n",
       "  'BMI': 24.337479718766904},\n",
       " 'Mary': {'h': 158,\n",
       "  'h_unit': 'cm',\n",
       "  'w': 51,\n",
       "  'w_unit': 'kg',\n",
       "  'BMI': 20.429418362441915},\n",
       " 'Lora': {'h': 160,\n",
       "  'h_unit': 'cm',\n",
       "  'w': 49,\n",
       "  'w_unit': 'kg',\n",
       "  'BMI': 19.140624999999996},\n",
       " 'Bill': {'h': 168,\n",
       "  'h_unit': 'cm',\n",
       "  'w': 70,\n",
       "  'w_unit': 'kg',\n",
       "  'BMI': 24.801587301587304},\n",
       " 'Elsa': {'h': 154,\n",
       "  'h_unit': 'cm',\n",
       "  'w': 55,\n",
       "  'w_unit': 'kg',\n",
       "  'BMI': 23.19109461966605},\n",
       " 'Golden': {'h': 176,\n",
       "  'h_unit': 'cm',\n",
       "  'w': 69,\n",
       "  'w_unit': 'kg',\n",
       "  'BMI': 22.275309917355372},\n",
       " 'Jason': {'h': 182,\n",
       "  'h_unit': 'cm',\n",
       "  'w': 77,\n",
       "  'w_unit': 'kg',\n",
       "  'BMI': 23.24598478444632},\n",
       " 'Larry': {'h': 160,\n",
       "  'h_unit': 'cm',\n",
       "  'w': 64,\n",
       "  'w_unit': 'kg',\n",
       "  'BMI': 24.999999999999996},\n",
       " 'Michelle': {'h': 155,\n",
       "  'h_unit': 'cm',\n",
       "  'w': 57,\n",
       "  'w_unit': 'kg',\n",
       "  'BMI': 23.725286160249738}}"
      ]
     },
     "execution_count": 6,
     "metadata": {},
     "output_type": "execute_result"
    }
   ],
   "source": [
    "dictD"
   ]
  },
  {
   "cell_type": "code",
   "execution_count": 11,
   "id": "30ef45f5",
   "metadata": {},
   "outputs": [
    {
     "name": "stdout",
     "output_type": "stream",
     "text": [
      "Mean BMI: 23.238 kg/m²\n",
      "Variance BMI: 4.158 (kg/m²)²\n",
      "Standard deviation BMI: 2.039 kg/m²\n"
     ]
    }
   ],
   "source": [
    "var_bmi=0.0\n",
    "std_bmi=0.0\n",
    "for b in bmi:\n",
    "    var_bmi+=(b-mean_bmi)**2\n",
    "\n",
    "\"\"\"\n",
    "http://blog.udn.com/nilnimest/92412101\n",
    "本來查錯公式，所以修正資料後算出的資料還是錯的\n",
    "var_bmi/=(len(bmi)-1)\n",
    "\"\"\"\n",
    "\n",
    "var_bmi/=len(bmi)\n",
    "std_bmi=var_bmi**0.5\n",
    "\n",
    "print(f'Mean BMI: {mean_bmi:.3f} kg/m\\xB2')\n",
    "print(f'Variance BMI: {var_bmi:.3f} (kg/m\\xB2)\\xB2')\n",
    "print(f'Standard deviation BMI: {std_bmi:.3f} kg/m\\xB2')"
   ]
  },
  {
   "cell_type": "code",
   "execution_count": null,
   "id": "513a6c4f",
   "metadata": {},
   "outputs": [],
   "source": []
  }
 ],
 "metadata": {
  "kernelspec": {
   "display_name": "Python 3",
   "language": "python",
   "name": "python3"
  },
  "language_info": {
   "codemirror_mode": {
    "name": "ipython",
    "version": 3
   },
   "file_extension": ".py",
   "mimetype": "text/x-python",
   "name": "python",
   "nbconvert_exporter": "python",
   "pygments_lexer": "ipython3",
   "version": "3.6.8"
  }
 },
 "nbformat": 4,
 "nbformat_minor": 5
}
