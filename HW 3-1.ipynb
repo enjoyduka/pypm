{
 "cells": [
  {
   "cell_type": "code",
   "execution_count": 1,
   "id": "fffe53cd",
   "metadata": {},
   "outputs": [
    {
     "name": "stdout",
     "output_type": "stream",
     "text": [
      "{'test': {'AS': 35, 'BJ': 33, 'CC': 44, 'DR': 31, 'FM': 50, 'KE': 50, 'LF': 33, 'MA': 28, 'MI': 25, 'MP': 28, 'PC': 30, 'RR': 25, 'TC': 32, 'TM': 45}}\n",
      "{'test': {'AS': 35, 'BJ': 33, 'CC': 44, 'DR': 31, 'FM': 50, 'KE': 50, 'LF': 33, 'MA': 28, 'MI': 25, 'MP': 28, 'PC': 30, 'RR': 25, 'TC': 32, 'TM': 45}, 'train': {'AS': 96, 'BJ': 164, 'CC': 201, 'DR': 105, 'FM': 295, 'KE': 203, 'LF': 150, 'MA': 56, 'MI': 100, 'MP': 68, 'PC': 105, 'RR': 68, 'TC': 62, 'TM': 170}}\n",
      ",AS,BJ,CC,DR,FM,KE,LF,MA,MI,MP,PC,RR,TC,TM\n",
      "test,35,33,44,31,50,50,33,28,25,28,30,25,32,45\n",
      "train,96,164,201,105,295,203,150,56,100,68,105,68,62,170\n",
      "\n"
     ]
    }
   ],
   "source": [
    "import glob\n",
    "import os\n",
    "\n",
    "os.listdir()\n",
    "\n",
    "def calculate(path):\n",
    "    test={}\n",
    "    p=os.path.join('trees',path)\n",
    "    cates = os.listdir(p)\n",
    "    for cate in range(len(cates)):        \n",
    "        x=glob.glob(os.path.join(p,cates[cate],'*.jpg'))        \n",
    "        test[cates[cate]]=len(x)\n",
    "        \n",
    "    return test\n",
    "# End of calculate\n",
    "\n",
    "def output(file,result_dict):\n",
    "    strV=''\n",
    "#     print(os.path.isfile(file))\n",
    "    blPrint=True\n",
    "    for key in result_dict.keys():\n",
    "        keys=list(result_dict[key].keys())\n",
    "        if(blPrint):\n",
    "            for k in keys: \n",
    "                strV+=\",\"+k\n",
    "            blPrint=False\n",
    "            strV+='\\n'\n",
    "        \n",
    "        strV+=key\n",
    "        for k in keys: \n",
    "            strV+=\",\"+ str(result_dict[key][k])\n",
    "        strV+='\\n'\n",
    "        \n",
    "    print(strV)\n",
    "\n",
    "    with open(file,'w',encoding='utf-8') as f:\n",
    "        f.write(strV)\n",
    "# End of output\n",
    "\n",
    "dict_trees={}\n",
    "p=os.path.join('trees')\n",
    "cates = os.listdir(p)\n",
    "for cate in range(len(cates)):\n",
    "    dict_trees[cates[cate]] = calculate(cates[cate])\n",
    "    print(dict_trees)\n",
    "\n",
    "output('trees_calc.csv', dict_trees)"
   ]
  }
 ],
 "metadata": {
  "kernelspec": {
   "display_name": "Python 3",
   "language": "python",
   "name": "python3"
  },
  "language_info": {
   "codemirror_mode": {
    "name": "ipython",
    "version": 3
   },
   "file_extension": ".py",
   "mimetype": "text/x-python",
   "name": "python",
   "nbconvert_exporter": "python",
   "pygments_lexer": "ipython3",
   "version": "3.6.8"
  }
 },
 "nbformat": 4,
 "nbformat_minor": 5
}
