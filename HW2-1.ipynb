{
 "cells": [
  {
   "cell_type": "code",
   "execution_count": 64,
   "id": "d74a795e",
   "metadata": {},
   "outputs": [
    {
     "name": "stdout",
     "output_type": "stream",
     "text": [
      "{'David': {'h': 180, 'h_unit': 'cm', 'w': 69, 'w_unit': 'kg', 'BMI': 21.296296296296294}, 'John': {'h': 172, 'h_unit': 'cm', 'w': 72, 'w_unit': 'kg', 'BMI': 24.337479718766904}, 'Mary': {'h': 158, 'h_unit': 'cm', 'w': 51, 'w_unit': 'kg', 'BMI': 20.429418362441915}, 'Lora': {'h': 160, 'h_unit': 'cm', 'w': 49, 'w_unit': 'kg', 'BMI': 19.140624999999996}, 'Bill': {'h': 168, 'h_unit': 'cm', 'w': 70, 'w_unit': 'kg', 'BMI': 24.801587301587304}, 'Elsa': {'h': 154, 'h_unit': 'cm', 'w': 55, 'w_unit': 'kg', 'BMI': 23.19109461966605}, 'Golden': {'h': 176, 'h_unit': 'cm', 'w': 69, 'w_unit': 'kg', 'BMI': 22.275309917355372}, 'Jason': {'h': 182, 'h_unit': 'cm', 'w': 85, 'w_unit': 'kg', 'BMI': 25.661152034778407}, 'Larry': {'h': 160, 'h_unit': 'cm', 'w': 64, 'w_unit': 'kg', 'BMI': 24.999999999999996}, 'Michelle': {'h': 155, 'h_unit': 'cm', 'w': 57, 'w_unit': 'kg', 'BMI': 23.725286160249738}}\n"
     ]
    }
   ],
   "source": [
    "dictD = {\"David\": {\"h\":180,\"h_unit\":\"cm\",\"w\":69,\"w_unit\":\"kg\"},\n",
    "\"John\": {\"h\":172,\"h_unit\":\"cm\",\"w\":72,\"w_unit\":\"kg\"},\n",
    "\"Mary\": {\"h\":158,\"h_unit\":\"cm\",\"w\":51,\"w_unit\":\"kg\"},\n",
    "\"Lora\": {\"h\":160,\"h_unit\":\"cm\",\"w\":49,\"w_unit\":\"kg\"},\n",
    "\"Bill\": {\"h\":168,\"h_unit\":\"cm\",\"w\":70,\"w_unit\":\"kg\"},\n",
    "\"Elsa\": {\"h\":154,\"h_unit\":\"cm\",\"w\":55,\"w_unit\":\"kg\"},\n",
    "\"Golden\": {\"h\":176,\"h_unit\":\"cm\",\"w\":69,\"w_unit\":\"kg\"},\n",
    "\"Jason\": {\"h\":182,\"h_unit\":\"cm\",\"w\":85,\"w_unit\":\"kg\"},\n",
    "\"Larry\": {\"h\":160,\"h_unit\":\"cm\",\"w\":64,\"w_unit\":\"kg\"},\n",
    "\"Michelle\": {\"h\":155,\"h_unit\":\"cm\",\"w\":57,\"w_unit\":\"kg\"}\n",
    "}\n",
    "# help(dict)\n",
    "for d in dictD:\n",
    "    thisDict=dictD[d]#取出目前的item並塞到thisDict\n",
    "    #BMI的公式為 BMI = 體重(公斤) / 身高(公尺)平方\n",
    "    thisDict.update({\"BMI\":thisDict[\"w\"]/((thisDict[\"h\"]/100)**2)})#把BMI產生後加回thisDict\n",
    "    dictD[d]=thisDict#取代原始dictD的值\n",
    "    \n",
    "print(dictD)"
   ]
  },
  {
   "cell_type": "code",
   "execution_count": 65,
   "id": "73ff9389",
   "metadata": {},
   "outputs": [
    {
     "name": "stdout",
     "output_type": "stream",
     "text": [
      "21.296296296296294\n",
      "24.337479718766904\n",
      "20.429418362441915\n",
      "19.140624999999996\n",
      "24.801587301587304\n",
      "23.19109461966605\n",
      "22.275309917355372\n",
      "25.661152034778407\n",
      "24.999999999999996\n",
      "23.725286160249738\n"
     ]
    }
   ],
   "source": [
    "bmi=[]\n",
    "for d in dictD:\n",
    "    print(dictD[d][\"BMI\"])\n",
    "    bmi.append(dictD[d][\"BMI\"])\n",
    "\n",
    "mean_bmi=sum(bmi)/len(bmi)"
   ]
  },
  {
   "cell_type": "code",
   "execution_count": 67,
   "id": "146413c0",
   "metadata": {},
   "outputs": [
    {
     "name": "stdout",
     "output_type": "stream",
     "text": [
      "Mean BMI: 22.986\n",
      "Variance BMI: 4.623\n",
      "Standard deviation BMI: 2.150\n"
     ]
    }
   ],
   "source": [
    "var_bmi=0.0\n",
    "std_bmi=0.0\n",
    "for b in bmi:\n",
    "    var_bmi+=(b-mean_bmi)**2\n",
    "var_bmi/=(len(bmi)-1)\n",
    "std_bmi=var_bmi**0.5\n",
    "\n",
    "print(f'Mean BMI: {mean_bmi:.3f}')\n",
    "print(f'Variance BMI: {var_bmi:.3f}')\n",
    "print(f'Standard deviation BMI: {std_bmi:.3f}')"
   ]
  },
  {
   "cell_type": "code",
   "execution_count": null,
   "id": "8e366892",
   "metadata": {},
   "outputs": [],
   "source": []
  }
 ],
 "metadata": {
  "kernelspec": {
   "display_name": "Python 3",
   "language": "python",
   "name": "python3"
  },
  "language_info": {
   "codemirror_mode": {
    "name": "ipython",
    "version": 3
   },
   "file_extension": ".py",
   "mimetype": "text/x-python",
   "name": "python",
   "nbconvert_exporter": "python",
   "pygments_lexer": "ipython3",
   "version": "3.6.8"
  }
 },
 "nbformat": 4,
 "nbformat_minor": 5
}
