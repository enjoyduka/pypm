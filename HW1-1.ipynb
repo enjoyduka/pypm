{
 "cells": [
  {
   "cell_type": "code",
   "execution_count": 1,
   "id": "c1dd6756",
   "metadata": {},
   "outputs": [
    {
     "name": "stdout",
     "output_type": "stream",
     "text": [
      "{3, 5, 6, 7, 9, 12, 111, 22.1}\n",
      "{2, 5, 8, 9, 22.0}\n"
     ]
    }
   ],
   "source": [
    "x = {3, 7, 9, 111, 3, 5, 6, 12, 22.1, 9, 3}\n",
    "y = {2, 5, 8, 9, 22.0}\n",
    "print(x)\n",
    "print(y)"
   ]
  },
  {
   "cell_type": "code",
   "execution_count": 2,
   "id": "06a59e57",
   "metadata": {},
   "outputs": [
    {
     "name": "stdout",
     "output_type": "stream",
     "text": [
      "<class 'set'>\n"
     ]
    },
    {
     "ename": "AttributeError",
     "evalue": "'set' object has no attribute 'append'",
     "output_type": "error",
     "traceback": [
      "\u001b[1;31m---------------------------------------------------------------------------\u001b[0m",
      "\u001b[1;31mAttributeError\u001b[0m                            Traceback (most recent call last)",
      "\u001b[1;32m<ipython-input-2-970c8eba6e43>\u001b[0m in \u001b[0;36m<module>\u001b[1;34m\u001b[0m\n\u001b[0;32m      1\u001b[0m \u001b[0mprint\u001b[0m\u001b[1;33m(\u001b[0m\u001b[0mtype\u001b[0m\u001b[1;33m(\u001b[0m\u001b[0mx\u001b[0m\u001b[1;33m)\u001b[0m\u001b[1;33m)\u001b[0m\u001b[1;33m\u001b[0m\u001b[1;33m\u001b[0m\u001b[0m\n\u001b[1;32m----> 2\u001b[1;33m \u001b[0mx\u001b[0m\u001b[1;33m.\u001b[0m\u001b[0mappend\u001b[0m\u001b[1;33m(\u001b[0m\u001b[1;34m'abc'\u001b[0m\u001b[1;33m)\u001b[0m\u001b[1;33m\u001b[0m\u001b[1;33m\u001b[0m\u001b[0m\n\u001b[0m",
      "\u001b[1;31mAttributeError\u001b[0m: 'set' object has no attribute 'append'"
     ]
    }
   ],
   "source": [
    "print(type(x))\n",
    "x.append('abc')"
   ]
  },
  {
   "cell_type": "code",
   "execution_count": 3,
   "id": "6b6b2878",
   "metadata": {},
   "outputs": [
    {
     "name": "stdout",
     "output_type": "stream",
     "text": [
      "{3, 5, 6, 7, 9, 12, 'abc', 111, 22.1}\n"
     ]
    }
   ],
   "source": [
    "# z=list(x)\n",
    "# print(z)\n",
    "# z.append('abc')\n",
    "# x=set(z)\n",
    "x.add('abc')\n",
    "print(x)"
   ]
  },
  {
   "cell_type": "code",
   "execution_count": 23,
   "id": "9e3c3185",
   "metadata": {},
   "outputs": [
    {
     "name": "stdout",
     "output_type": "stream",
     "text": [
      "{9, 5}\n",
      "{2, 3, 5, 6, 7, 8, 9, 12, 111, 22.1, 22.0, 'abc'}\n"
     ]
    }
   ],
   "source": [
    "#交集\n",
    "print(x.intersection(y))\n",
    "#聯集\n",
    "print(x.union(y))"
   ]
  },
  {
   "cell_type": "code",
   "execution_count": 24,
   "id": "8ce0a728",
   "metadata": {},
   "outputs": [
    {
     "name": "stdout",
     "output_type": "stream",
     "text": [
      "{3, 5, 6, 7, 12, 111, 22.1, 'abc'}\n"
     ]
    }
   ],
   "source": [
    "x.remove(9)\n",
    "print(x)"
   ]
  },
  {
   "cell_type": "code",
   "execution_count": null,
   "id": "f19a217d",
   "metadata": {},
   "outputs": [],
   "source": []
  }
 ],
 "metadata": {
  "kernelspec": {
   "display_name": "Python 3",
   "language": "python",
   "name": "python3"
  },
  "language_info": {
   "codemirror_mode": {
    "name": "ipython",
    "version": 3
   },
   "file_extension": ".py",
   "mimetype": "text/x-python",
   "name": "python",
   "nbconvert_exporter": "python",
   "pygments_lexer": "ipython3",
   "version": "3.6.8"
  }
 },
 "nbformat": 4,
 "nbformat_minor": 5
}
